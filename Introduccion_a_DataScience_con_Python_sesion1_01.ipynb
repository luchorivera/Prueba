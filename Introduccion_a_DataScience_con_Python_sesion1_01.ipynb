{
  "nbformat": 4,
  "nbformat_minor": 0,
  "metadata": {
    "colab": {
      "name": "Introduccion-a-DataScience-con-Python-sesion1-01.ipynb",
      "provenance": [],
      "collapsed_sections": [],
      "include_colab_link": true
    },
    "kernelspec": {
      "name": "python3",
      "display_name": "Python 3"
    }
  },
  "cells": [
    {
      "cell_type": "markdown",
      "metadata": {
        "id": "view-in-github",
        "colab_type": "text"
      },
      "source": [
        "<a href=\"https://colab.research.google.com/github/luchorivera/Prueba/blob/master/Introduccion_a_DataScience_con_Python_sesion1_01.ipynb\" target=\"_parent\"><img src=\"https://colab.research.google.com/assets/colab-badge.svg\" alt=\"Open In Colab\"/></a>"
      ]
    },
    {
      "cell_type": "markdown",
      "metadata": {
        "id": "bzxRURncjjY_",
        "colab_type": "text"
      },
      "source": [
        "# **Curso: Introducción a Data Science con Python**\n",
        "\n",
        "Por: **Luis Miguel Rivera Cumbicus** (\n",
        "      *luchoriverac@gmail.com*)"
      ]
    },
    {
      "cell_type": "markdown",
      "metadata": {
        "id": "JwNsfUAEdqTn",
        "colab_type": "text"
      },
      "source": [
        "# **Tipos de variables**\n",
        "\n",
        "En Python, puede manejar y manipular diferentes tipos de variables. Cada una tiene sus propias especificidades y beneficios. No revisaremos cada una de ellas, sino que nos centraremos en las principales para esta sesió. Para cada uno de los siguientes ejemplos de código, puede ejecutar el código en Google Collab (https://colab.research.google.com/notebooks/intro.ipynb) para ver los resultados.\n",
        "\n",
        "# **Variables Numéricas**\n",
        "\n",
        "El tipo de variable más básica es numérico. Esta puede contener números enteros o decimales (o flotantes), y algunas operaciones matemáticas se pueden realizar encima de ellos.\n",
        "\n",
        "Usemos una variable entera llamada **var1** que tomará el valor 8 y otra llamada **var2** con el valor 160.88, y las sumaremos junto con el + operador, como se muestra aquí:"
      ]
    },
    {
      "cell_type": "code",
      "metadata": {
        "id": "iwmd37RjSMgC",
        "colab_type": "code",
        "outputId": "704997b7-301a-49eb-ca0c-202ec9ccd09f",
        "colab": {
          "base_uri": "https://localhost:8080/",
          "height": 35
        }
      },
      "source": [
        "var1 = 8\n",
        "var2 = 160.88\n",
        "var1 + var2"
      ],
      "execution_count": 0,
      "outputs": [
        {
          "output_type": "execute_result",
          "data": {
            "text/plain": [
              "168.88"
            ]
          },
          "metadata": {
            "tags": []
          },
          "execution_count": 22
        }
      ]
    },
    {
      "cell_type": "markdown",
      "metadata": {
        "id": "Ln77Fc4Td9Ip",
        "colab_type": "text"
      },
      "source": [
        "# Variables de texto\n",
        "\n",
        "Otro tipo interesante de variable es string, que contiene información textual.\n",
        "\n",
        "Puede crear una variable con un texto específico utilizando comillas simples o dobles, como se muestra en el siguiente ejemplo:"
      ]
    },
    {
      "cell_type": "code",
      "metadata": {
        "id": "1WonOExvSLp2",
        "colab_type": "code",
        "colab": {}
      },
      "source": [
        "var3 = 'Hello, '\n",
        "var4 = 'World'"
      ],
      "execution_count": 0,
      "outputs": []
    },
    {
      "cell_type": "markdown",
      "metadata": {
        "id": "GlJqBS2CeORe",
        "colab_type": "text"
      },
      "source": [
        "Para mostrar el contenido de una variable, puede llamar a la función  print():"
      ]
    },
    {
      "cell_type": "code",
      "metadata": {
        "id": "C7ZSaBcVS3Lb",
        "colab_type": "code",
        "outputId": "bdfbf2fe-d5d7-4379-942c-5c57467c9fd1",
        "colab": {
          "base_uri": "https://localhost:8080/",
          "height": 54
        }
      },
      "source": [
        "print(var3)\n",
        "print(var4)"
      ],
      "execution_count": 0,
      "outputs": [
        {
          "output_type": "stream",
          "text": [
            "Hello, \n",
            "World\n"
          ],
          "name": "stdout"
        }
      ]
    },
    {
      "cell_type": "markdown",
      "metadata": {
        "id": "Iqm016GHeWuk",
        "colab_type": "text"
      },
      "source": [
        "Python también proporciona una **interfaz llamada cadenas f** para imprimir texto con el valor de variables definidas. \n",
        "\n",
        "Es muy útil cuando desea imprimir resultados con texto adicional para hacerlo más legible e interpretar los resultados. También es bastante común usar cadenas f para imprimir registros. \n",
        "\n",
        "Deberá agregar ***f*** antes de las **comillas (o comillas dobles**) para especificar que el texto será una cadena f. Luego puede agregar una variable existente dentro de las comillas y mostrar el texto con el valor de esta variable. \n",
        "\n",
        "Es necesario para envolver la variable con llaves, **{}**. \n",
        "\n",
        "Por ejemplo, si queremos imprimir Text: antes de los valores de **var3** y **var 4**, escribiremos el siguiente código:"
      ]
    },
    {
      "cell_type": "code",
      "metadata": {
        "id": "Ll8CProCS26l",
        "colab_type": "code",
        "outputId": "078616aa-d512-4121-ea29-6fdf2680f05e",
        "colab": {
          "base_uri": "https://localhost:8080/",
          "height": 35
        }
      },
      "source": [
        "print(f\"Text: {var3} {var4}!\")"
      ],
      "execution_count": 0,
      "outputs": [
        {
          "output_type": "stream",
          "text": [
            "Text: Hello,  World!\n"
          ],
          "name": "stdout"
        }
      ]
    },
    {
      "cell_type": "markdown",
      "metadata": {
        "id": "dTlHVtq2ez6B",
        "colab_type": "text"
      },
      "source": [
        "También puede realizar algunas transformaciones relacionadas con el texto con variables de cadena, como poner en mayúscula o reemplazar caracteres. \n",
        "\n",
        "Por ejemplo, puede concatenar las dos variables junto con el + operador:"
      ]
    },
    {
      "cell_type": "code",
      "metadata": {
        "id": "guJbEHVOS2ka",
        "colab_type": "code",
        "outputId": "cec613a2-b566-4e7d-b519-b5fae6f8ab62",
        "colab": {
          "base_uri": "https://localhost:8080/",
          "height": 35
        }
      },
      "source": [
        "var3 + var4"
      ],
      "execution_count": 0,
      "outputs": [
        {
          "output_type": "execute_result",
          "data": {
            "text/plain": [
              "'Hello, World'"
            ]
          },
          "metadata": {
            "tags": []
          },
          "execution_count": 26
        }
      ]
    },
    {
      "cell_type": "markdown",
      "metadata": {
        "id": "I-pHP0d1fBF_",
        "colab_type": "text"
      },
      "source": [
        "# **Lista de Python**\n",
        "\n",
        "Otro tipo de variable muy útil es la lista. \n",
        "\n",
        "Es una colección de elementos que se pueden cambiar (puede agregar, actualizar o eliminar elementos). Para declarar una lista, deberá utilizar corchetes **[]**, como este:\n",
        "\n"
      ]
    },
    {
      "cell_type": "code",
      "metadata": {
        "id": "9cjrmeKZTiz3",
        "colab_type": "code",
        "outputId": "10928c2c-7acb-4d5f-b812-fc52ed7daf0f",
        "colab": {
          "base_uri": "https://localhost:8080/",
          "height": 35
        }
      },
      "source": [
        "var5 = ['I', 'love', 'data', 'science']\n",
        "print(var5)"
      ],
      "execution_count": 0,
      "outputs": [
        {
          "output_type": "stream",
          "text": [
            "['I', 'love', 'data', 'science']\n"
          ],
          "name": "stdout"
        }
      ]
    },
    {
      "cell_type": "markdown",
      "metadata": {
        "id": "ISBuCv7sfT6y",
        "colab_type": "text"
      },
      "source": [
        "Una lista puede tener diferentes tipos de elementos, por lo que puede mezclar variables numéricas y de texto en ella:"
      ]
    },
    {
      "cell_type": "code",
      "metadata": {
        "id": "MMyqE1JwTimJ",
        "colab_type": "code",
        "outputId": "b216c029-7904-44d9-c41c-6ee1675f4c50",
        "colab": {
          "base_uri": "https://localhost:8080/",
          "height": 35
        }
      },
      "source": [
        "var6 = ['Packt', 15019, 2020, 'Data Science']\n",
        "print(var6)"
      ],
      "execution_count": 0,
      "outputs": [
        {
          "output_type": "stream",
          "text": [
            "['Packt', 15019, 2020, 'Data Science']\n"
          ],
          "name": "stdout"
        }
      ]
    },
    {
      "cell_type": "markdown",
      "metadata": {
        "id": "2wnhOO3sffkU",
        "colab_type": "text"
      },
      "source": [
        "**Se puede acceder a un elemento de una lista por su índice (su posición en la lista).** \n",
        "\n",
        "Para acceder al primer elemento (**índice 0**) y al tercer elemento (**índice 2**) de una lista, haga lo siguiente:\n",
        "\n",
        "Nota\n",
        "\n",
        "**En Python, todos los índices comienzan en 0.**"
      ]
    },
    {
      "cell_type": "code",
      "metadata": {
        "id": "vPUxKsy5Tibq",
        "colab_type": "code",
        "outputId": "360c1dbd-5e75-411e-a9ce-a1af1c593560",
        "colab": {
          "base_uri": "https://localhost:8080/",
          "height": 54
        }
      },
      "source": [
        "print(var6[0])  # para acceder al elemento 0 de la lista\n",
        "print(var6[2])  # para acceder al elemento 2 de la lista"
      ],
      "execution_count": 0,
      "outputs": [
        {
          "output_type": "stream",
          "text": [
            "Packt\n",
            "2020\n"
          ],
          "name": "stdout"
        }
      ]
    },
    {
      "cell_type": "markdown",
      "metadata": {
        "id": "_avy6z54f2Ys",
        "colab_type": "text"
      },
      "source": [
        "Python proporciona una API para acceder a una variedad de elementos utilizando el **:** operador. \n",
        " \n",
        "*Solo necesita especificar el índice inicial en el lado izquierdo del operador y el índice final en el lado derecho. *\n",
        "\n",
        "El **índice final siempre se excluye del rango**. Por lo tanto, si desea obtener los primeros tres elementos (índice 0 a 2), debe hacer lo siguiente:"
      ]
    },
    {
      "cell_type": "code",
      "metadata": {
        "id": "8zfjQJzCTiRM",
        "colab_type": "code",
        "outputId": "04f2b4b5-7e02-4682-b566-489ad3ccafb9",
        "colab": {
          "base_uri": "https://localhost:8080/",
          "height": 35
        }
      },
      "source": [
        "print(var6[0:3])  # para obtener los elementos del 0 al 2 (0,1,2)"
      ],
      "execution_count": 0,
      "outputs": [
        {
          "output_type": "stream",
          "text": [
            "['Packt', 15019, 2020]\n"
          ],
          "name": "stdout"
        }
      ]
    },
    {
      "cell_type": "markdown",
      "metadata": {
        "id": "XEA_ALv4gOJL",
        "colab_type": "text"
      },
      "source": [
        "También puede recorrer cada elemento de una lista utilizando un bucle **for**. \n",
        "\n",
        "Si desea imprimir todos los elementos de la var6lista, debe hacer esto:"
      ]
    },
    {
      "cell_type": "code",
      "metadata": {
        "id": "aJxvoODEgRQs",
        "colab_type": "code",
        "outputId": "791c91a0-e276-44f3-f98c-8de818caf469",
        "colab": {
          "base_uri": "https://localhost:8080/",
          "height": 90
        }
      },
      "source": [
        "for item in var6:\n",
        "  print(item)"
      ],
      "execution_count": 0,
      "outputs": [
        {
          "output_type": "stream",
          "text": [
            "Packt\n",
            "15019\n",
            "2020\n",
            "Data Science\n"
          ],
          "name": "stdout"
        }
      ]
    },
    {
      "cell_type": "markdown",
      "metadata": {
        "id": "pbBqGpCLg6uB",
        "colab_type": "text"
      },
      "source": [
        "Puede **agregar** un elemento al final de la lista utilizando el método **.append()**:"
      ]
    },
    {
      "cell_type": "code",
      "metadata": {
        "id": "1QF8zk_LWz-R",
        "colab_type": "code",
        "outputId": "bd36b6b1-4b86-4946-c908-6d93fefb1a6e",
        "colab": {
          "base_uri": "https://localhost:8080/",
          "height": 35
        }
      },
      "source": [
        "var6.append('Python')\n",
        "print(var6)"
      ],
      "execution_count": 0,
      "outputs": [
        {
          "output_type": "stream",
          "text": [
            "['Packt', 15019, 2020, 'Data Science', 'Python']\n"
          ],
          "name": "stdout"
        }
      ]
    },
    {
      "cell_type": "markdown",
      "metadata": {
        "id": "koxAl7mvhL0U",
        "colab_type": "text"
      },
      "source": [
        "Para **eliminar** un elemento de la lista, utiliza el método **.remove()**:"
      ]
    },
    {
      "cell_type": "code",
      "metadata": {
        "id": "YMIGPDXMW0KC",
        "colab_type": "code",
        "outputId": "f8357617-fce6-4c32-8f1d-6633d18d61f0",
        "colab": {
          "base_uri": "https://localhost:8080/",
          "height": 35
        }
      },
      "source": [
        "var6.remove(15019)\n",
        "print(var6)"
      ],
      "execution_count": 0,
      "outputs": [
        {
          "output_type": "stream",
          "text": [
            "['Packt', 2020, 'Data Science', 'Python']\n"
          ],
          "name": "stdout"
        }
      ]
    },
    {
      "cell_type": "markdown",
      "metadata": {
        "id": "rQZWCe9ahkAP",
        "colab_type": "text"
      },
      "source": [
        "# **Diccionario Python**\n",
        "\n",
        "Otra variable muy popular de Python utilizada por los científicos de datos es el tipo de diccionario. \n",
        "\n",
        "Por ejemplo, se puede usar para cargar datos JSON en Python para que luego se pueda convertir en un DataFrame (aprenderá más sobre el formato JSON y los DataFrames en las siguientes secciones). \n",
        "\n",
        "**Un diccionario contiene múltiples elementos, como una lista , pero cada elemento está organizado como un par clave-valor. **\n",
        "\n",
        "Un diccionario no está indexado por números sino por claves. Por lo tanto, para acceder a un valor específico, deberá llamar al elemento por su clave correspondiente. \n",
        "\n",
        "**Para definir un diccionario en Python, usará llaves {}, y especificará las claves y los valores separados por :**, como se muestra aquí:"
      ]
    },
    {
      "cell_type": "code",
      "metadata": {
        "id": "GbzsLr80W0FA",
        "colab_type": "code",
        "outputId": "c7aca31a-337e-4413-8f67-be625b731862",
        "colab": {
          "base_uri": "https://localhost:8080/",
          "height": 35
        }
      },
      "source": [
        "var7 = {'Topic': 'Data Science', 'Language': 'Python'}\n",
        "print(var7)"
      ],
      "execution_count": 0,
      "outputs": [
        {
          "output_type": "stream",
          "text": [
            "{'Topic': 'Data Science', 'Language': 'Python'}\n"
          ],
          "name": "stdout"
        }
      ]
    },
    {
      "cell_type": "markdown",
      "metadata": {
        "id": "sfMwL68qiDWF",
        "colab_type": "text"
      },
      "source": [
        "Para acceder a un valor específico, debe proporcionar el nombre de clave correspondiente. \n",
        "\n",
        "Por ejemplo, si desea obtener el valor Python, haga esto:\n",
        "\n",
        "Nota\n",
        "\n",
        "Cada par clave-valor en un diccionario debe ser único."
      ]
    },
    {
      "cell_type": "code",
      "metadata": {
        "id": "xHyyAWIAY8Aw",
        "colab_type": "code",
        "outputId": "2f4adbf5-2730-4134-dc47-3d1dd321d519",
        "colab": {
          "base_uri": "https://localhost:8080/",
          "height": 35
        }
      },
      "source": [
        "var7['Language']"
      ],
      "execution_count": 0,
      "outputs": [
        {
          "output_type": "execute_result",
          "data": {
            "text/plain": [
              "'Python'"
            ]
          },
          "metadata": {
            "tags": []
          },
          "execution_count": 37
        }
      ]
    },
    {
      "cell_type": "markdown",
      "metadata": {
        "id": "YJpXn0xuiZeT",
        "colab_type": "text"
      },
      "source": [
        "Python proporciona un **método para acceder** a todos los nombres clave de un diccionario **.keys()**, que se utiliza como se muestra en el siguiente fragmento de código:"
      ]
    },
    {
      "cell_type": "code",
      "metadata": {
        "id": "FW4qXbLKY8L0",
        "colab_type": "code",
        "outputId": "5c41fbc2-c997-4397-8e75-2ef8341d7b06",
        "colab": {
          "base_uri": "https://localhost:8080/",
          "height": 35
        }
      },
      "source": [
        "var7.keys()"
      ],
      "execution_count": 0,
      "outputs": [
        {
          "output_type": "execute_result",
          "data": {
            "text/plain": [
              "dict_keys(['Topic', 'Language'])"
            ]
          },
          "metadata": {
            "tags": []
          },
          "execution_count": 38
        }
      ]
    },
    {
      "cell_type": "markdown",
      "metadata": {
        "id": "qRwjpNyrio3_",
        "colab_type": "text"
      },
      "source": [
        "También hay un método llamado **.values()**, que se utiliza para acceder a todos los valores de un diccionario:"
      ]
    },
    {
      "cell_type": "code",
      "metadata": {
        "id": "BH2BrIgsiuI0",
        "colab_type": "code",
        "outputId": "53165c9b-aa56-4257-af9a-2da0b9204a99",
        "colab": {
          "base_uri": "https://localhost:8080/",
          "height": 35
        }
      },
      "source": [
        "var7.values()"
      ],
      "execution_count": 0,
      "outputs": [
        {
          "output_type": "execute_result",
          "data": {
            "text/plain": [
              "dict_values(['Data Science', 'Python'])"
            ]
          },
          "metadata": {
            "tags": []
          },
          "execution_count": 39
        }
      ]
    },
    {
      "cell_type": "markdown",
      "metadata": {
        "id": "7qbhXs4OjNmr",
        "colab_type": "text"
      },
      "source": [
        "Puede recorrer todos los elementos de un diccionario utilizando un bucle for  y el método **.items()**, como se muestra en el siguiente fragmento de código:"
      ]
    },
    {
      "cell_type": "code",
      "metadata": {
        "id": "N3BBXkdbY8UB",
        "colab_type": "code",
        "outputId": "70571b65-d16f-4c18-b3f0-739e9508ced7",
        "colab": {
          "base_uri": "https://localhost:8080/",
          "height": 90
        }
      },
      "source": [
        "for key, value in var7.items():\n",
        "  print(key)\n",
        "  print(value)"
      ],
      "execution_count": 0,
      "outputs": [
        {
          "output_type": "stream",
          "text": [
            "Topic\n",
            "Data Science\n",
            "Language\n",
            "Python\n"
          ],
          "name": "stdout"
        }
      ]
    },
    {
      "cell_type": "markdown",
      "metadata": {
        "id": "DhM5TIJMjgqK",
        "colab_type": "text"
      },
      "source": [
        "**Puede agregar un nuevo elemento en un diccionario proporcionando el nombre de clave** como este:"
      ]
    },
    {
      "cell_type": "code",
      "metadata": {
        "id": "kENgCWh1Y8dL",
        "colab_type": "code",
        "outputId": "1f7608ee-7099-408d-c5c8-71a8cae11831",
        "colab": {
          "base_uri": "https://localhost:8080/",
          "height": 35
        }
      },
      "source": [
        "var7['Publisher'] = 'Packt'\n",
        "print(var7)"
      ],
      "execution_count": 0,
      "outputs": [
        {
          "output_type": "stream",
          "text": [
            "{'Topic': 'Data Science', 'Language': 'Python', 'Publisher': 'Packt'}\n"
          ],
          "name": "stdout"
        }
      ]
    },
    {
      "cell_type": "markdown",
      "metadata": {
        "id": "kWlbVUXejngN",
        "colab_type": "text"
      },
      "source": [
        "Puede **eliminar** un elemento de un diccionario con el **comando del**:"
      ]
    },
    {
      "cell_type": "code",
      "metadata": {
        "id": "emZ1dQ89Y8Z9",
        "colab_type": "code",
        "outputId": "efecc7fa-a374-4c3d-93dc-d40571e8432a",
        "colab": {
          "base_uri": "https://localhost:8080/",
          "height": 35
        }
      },
      "source": [
        "del var7['Publisher']\n",
        "print(var7)"
      ],
      "execution_count": 0,
      "outputs": [
        {
          "output_type": "stream",
          "text": [
            "{'Topic': 'Data Science', 'Language': 'Python'}\n"
          ],
          "name": "stdout"
        }
      ]
    },
    {
      "cell_type": "code",
      "metadata": {
        "id": "QHrS3WSxY8Ig",
        "colab_type": "code",
        "colab": {}
      },
      "source": [
        ""
      ],
      "execution_count": 0,
      "outputs": []
    },
    {
      "cell_type": "markdown",
      "metadata": {
        "id": "amqm6vM-j1UH",
        "colab_type": "text"
      },
      "source": [
        "Ejercicio 1.01: creación de un diccionario que contendrá algoritmos de aprendizaje automático\n",
        "\n",
        "En este ejercicio, **crearemos un diccionario** usando Python que contendrá una colección de diferentes algoritmos de aprendizaje automático que se tratarán en este libro.\n"
      ]
    },
    {
      "cell_type": "markdown",
      "metadata": {
        "id": "Y8vEl1RZkHwb",
        "colab_type": "text"
      },
      "source": [
        "1. **Abrir en un nuevo cuaderno de Google Collaboratory** (https://colab.research.google.com/notebooks/intro.ipynb).\n",
        "\n",
        "2. Crear una lista algorithm que contendrá los siguientes elementos: Linear Regression, Logistic Regression, RandomForest, y a3c:"
      ]
    },
    {
      "cell_type": "code",
      "metadata": {
        "id": "VvyjASrX8ioW",
        "colab_type": "code",
        "colab": {}
      },
      "source": [
        "algorithm = ['Linear Regression', 'Logistic Regression', 'RandomForest', 'a3c']"
      ],
      "execution_count": 0,
      "outputs": []
    },
    {
      "cell_type": "markdown",
      "metadata": {
        "id": "ZvLJujq0kjVk",
        "colab_type": "text"
      },
      "source": [
        "3. Ahora, crear una lista llamada learning que contendrá los siguientes elementos: Supervised, Supervised, Supervised, y Reinforcement:\n"
      ]
    },
    {
      "cell_type": "code",
      "metadata": {
        "id": "RyYIgCN28_P0",
        "colab_type": "code",
        "colab": {}
      },
      "source": [
        "learning = ['Supervised', 'Supervised', 'Supervised', 'Reinforcement']"
      ],
      "execution_count": 0,
      "outputs": []
    },
    {
      "cell_type": "markdown",
      "metadata": {
        "id": "LvZwZGohkupt",
        "colab_type": "text"
      },
      "source": [
        "4. Crear una lista algorithm_type que contendrá los siguientes elementos: Regression, Classification, Regressiono Classification, y Game AI:"
      ]
    },
    {
      "cell_type": "code",
      "metadata": {
        "id": "ZEqFtWds9JFy",
        "colab_type": "code",
        "colab": {}
      },
      "source": [
        "algorithm_type = ['Regression', 'Classification', 'Regression or Classification', 'Game AI']"
      ],
      "execution_count": 0,
      "outputs": []
    },
    {
      "cell_type": "markdown",
      "metadata": {
        "id": "0Y_expERk5eS",
        "colab_type": "text"
      },
      "source": [
        "5. Agregue un elemento llamado k-means a la lista algorithm usando el .append()método:"
      ]
    },
    {
      "cell_type": "code",
      "metadata": {
        "id": "nBjdkC8F-M6f",
        "colab_type": "code",
        "colab": {}
      },
      "source": [
        "algorithm.append('k-means')"
      ],
      "execution_count": 0,
      "outputs": []
    },
    {
      "cell_type": "markdown",
      "metadata": {
        "id": "TkW3ZUyzlIMe",
        "colab_type": "text"
      },
      "source": [
        "6. Muestra el contenido de algorithm usar la print()función:"
      ]
    },
    {
      "cell_type": "code",
      "metadata": {
        "id": "6Bc-Nys6-f9X",
        "colab_type": "code",
        "outputId": "cf48b591-8740-4cf7-efa6-d2ab1e58f272",
        "colab": {
          "base_uri": "https://localhost:8080/",
          "height": 35
        }
      },
      "source": [
        "print(algorithm)"
      ],
      "execution_count": 0,
      "outputs": [
        {
          "output_type": "stream",
          "text": [
            "['Linear Regression', 'Logistic Regression', 'RandomForest', 'a3c', 'k-means']\n"
          ],
          "name": "stdout"
        }
      ]
    },
    {
      "cell_type": "markdown",
      "metadata": {
        "id": "G0E4FR8_laBG",
        "colab_type": "text"
      },
      "source": [
        "7. Ahora, agregue el elemento Unsupervised a la lista learning usando el método .append():"
      ]
    },
    {
      "cell_type": "code",
      "metadata": {
        "id": "bPoVJ0gA-Yq0",
        "colab_type": "code",
        "colab": {}
      },
      "source": [
        "learning.append('Unsupervised')"
      ],
      "execution_count": 0,
      "outputs": []
    },
    {
      "cell_type": "markdown",
      "metadata": {
        "id": "IY1i9zUglxU_",
        "colab_type": "text"
      },
      "source": [
        "8. Muestra el contenido de learning usar la función print():"
      ]
    },
    {
      "cell_type": "code",
      "metadata": {
        "id": "NueuDyh--iRC",
        "colab_type": "code",
        "outputId": "d4d0d25f-49f3-45ae-edee-d681ec308a86",
        "colab": {
          "base_uri": "https://localhost:8080/",
          "height": 35
        }
      },
      "source": [
        "print(learning)"
      ],
      "execution_count": 0,
      "outputs": [
        {
          "output_type": "stream",
          "text": [
            "['Supervised', 'Supervised', 'Supervised', 'Reinforcement', 'Unsupervised']\n"
          ],
          "name": "stdout"
        }
      ]
    },
    {
      "cell_type": "markdown",
      "metadata": {
        "id": "ITTys8Yhl_IR",
        "colab_type": "text"
      },
      "source": [
        "9. Agregue el elemento Clustering a la lista algorithm_type usando el método .append():"
      ]
    },
    {
      "cell_type": "code",
      "metadata": {
        "id": "Z6GfEOi4-Yxl",
        "colab_type": "code",
        "colab": {}
      },
      "source": [
        "algorithm_type.append('Clustering')"
      ],
      "execution_count": 0,
      "outputs": []
    },
    {
      "cell_type": "markdown",
      "metadata": {
        "id": "k3wQMb-qmS23",
        "colab_type": "text"
      },
      "source": [
        "10. Muestra el contenido de algorithm_type usar la función print():"
      ]
    },
    {
      "cell_type": "code",
      "metadata": {
        "id": "06CEQM6A-ldI",
        "colab_type": "code",
        "outputId": "35d1157d-b6f6-4d89-8678-7afdf2d34478",
        "colab": {
          "base_uri": "https://localhost:8080/",
          "height": 35
        }
      },
      "source": [
        "print(algorithm_type)"
      ],
      "execution_count": 0,
      "outputs": [
        {
          "output_type": "stream",
          "text": [
            "['Regression', 'Classification', 'Regression or Classification', 'Game AI', 'Clustering']\n"
          ],
          "name": "stdout"
        }
      ]
    },
    {
      "cell_type": "markdown",
      "metadata": {
        "id": "JT9ZcUtTmeuI",
        "colab_type": "text"
      },
      "source": [
        "11. Crear un diccionario vacío llamada machine_learning **mediante** llaves, {}:"
      ]
    },
    {
      "cell_type": "code",
      "metadata": {
        "id": "6Toy0a4y-qMa",
        "colab_type": "code",
        "colab": {}
      },
      "source": [
        "machine_learning = {}"
      ],
      "execution_count": 0,
      "outputs": []
    },
    {
      "cell_type": "markdown",
      "metadata": {
        "id": "ci_lXUlKms29",
        "colab_type": "text"
      },
      "source": [
        "12. Cree un nuevo elemento machine_learning con la clave como algorithm y el valor como todos los elementos de la lista algorithm:"
      ]
    },
    {
      "cell_type": "code",
      "metadata": {
        "id": "a0p_KDXJ-68D",
        "colab_type": "code",
        "colab": {}
      },
      "source": [
        "machine_learning['algorithm'] = algorithm"
      ],
      "execution_count": 0,
      "outputs": []
    },
    {
      "cell_type": "markdown",
      "metadata": {
        "id": "OWEY1Z4Cm6n5",
        "colab_type": "text"
      },
      "source": [
        "13. Muestra el contenido del machine_learning con uso de la función print()."
      ]
    },
    {
      "cell_type": "code",
      "metadata": {
        "id": "hb48dYN_-_hu",
        "colab_type": "code",
        "outputId": "da18ad59-594e-4134-d65e-355aca060cf4",
        "colab": {
          "base_uri": "https://localhost:8080/",
          "height": 35
        }
      },
      "source": [
        "print(machine_learning)"
      ],
      "execution_count": 0,
      "outputs": [
        {
          "output_type": "stream",
          "text": [
            "{'algorithm': ['Linear Regression', 'Logistic Regression', 'RandomForest', 'a3c', 'k-means']}\n"
          ],
          "name": "stdout"
        }
      ]
    },
    {
      "cell_type": "markdown",
      "metadata": {
        "id": "Xbhy7BBvnZse",
        "colab_type": "text"
      },
      "source": [
        "14. Cree un nuevo elemento machine_learning con la clave como learning y el valor como todos los elementos de la lista learning:"
      ]
    },
    {
      "cell_type": "code",
      "metadata": {
        "id": "2h3CZGxe_CmY",
        "colab_type": "code",
        "colab": {}
      },
      "source": [
        "machine_learning['learning'] = learning"
      ],
      "execution_count": 0,
      "outputs": []
    },
    {
      "cell_type": "markdown",
      "metadata": {
        "id": "pajFn95Lnoaw",
        "colab_type": "text"
      },
      "source": [
        "15. Ahora, cree un nuevo elemento machine_learning con la clave como algorithm_type y el valor como todos los elementos de la lista de algoritmo_tipo:"
      ]
    },
    {
      "cell_type": "code",
      "metadata": {
        "id": "Clilnrf9_GrS",
        "colab_type": "code",
        "colab": {}
      },
      "source": [
        "machine_learning['algorithm_type'] = algorithm_type"
      ],
      "execution_count": 0,
      "outputs": []
    },
    {
      "cell_type": "markdown",
      "metadata": {
        "id": "0trQJ21un-OA",
        "colab_type": "text"
      },
      "source": [
        "16. Muestra el contenido del machine_learning con uso de la función print()."
      ]
    },
    {
      "cell_type": "code",
      "metadata": {
        "id": "SF8j6lU4E5bN",
        "colab_type": "code",
        "outputId": "05d52df4-f026-4153-e9ab-4517f4387220",
        "colab": {
          "base_uri": "https://localhost:8080/",
          "height": 55
        }
      },
      "source": [
        "print(machine_learning)"
      ],
      "execution_count": 0,
      "outputs": [
        {
          "output_type": "stream",
          "text": [
            "{'algorithm': ['Linear Regression', 'Logistic Regression', 'RandomForest', 'a3c', 'k-means'], 'learning': ['Supervised', 'Supervised', 'Supervised', 'Reinforcement', 'Unsupervised'], 'algorithm_type': ['Regression', 'Classification', 'Regression or Classification', 'Game AI', 'Clustering']}\n"
          ],
          "name": "stdout"
        }
      ]
    },
    {
      "cell_type": "markdown",
      "metadata": {
        "id": "Bx9czdodoM-Q",
        "colab_type": "text"
      },
      "source": [
        "17. Elimine el elemento a3c de la clave algorithm utilizando el método .remove():"
      ]
    },
    {
      "cell_type": "code",
      "metadata": {
        "id": "pzWrjP4m_Z_Q",
        "colab_type": "code",
        "colab": {}
      },
      "source": [
        "machine_learning['algorithm'].remove('a3c')"
      ],
      "execution_count": 0,
      "outputs": []
    },
    {
      "cell_type": "markdown",
      "metadata": {
        "id": "OdNO3zJ_ogRE",
        "colab_type": "text"
      },
      "source": [
        "18. Muestre el contenido del elemento algorithm deldiccionario machine_learning utilizando la función print():"
      ]
    },
    {
      "cell_type": "code",
      "metadata": {
        "id": "OSQxcCPZ_gm2",
        "colab_type": "code",
        "outputId": "611ab556-9c34-4882-d2fc-ba38e867cef2",
        "colab": {
          "base_uri": "https://localhost:8080/",
          "height": 35
        }
      },
      "source": [
        "print(machine_learning['algorithm'])"
      ],
      "execution_count": 0,
      "outputs": [
        {
          "output_type": "stream",
          "text": [
            "['Linear Regression', 'Logistic Regression', 'RandomForest', 'k-means']\n"
          ],
          "name": "stdout"
        }
      ]
    },
    {
      "cell_type": "markdown",
      "metadata": {
        "id": "eJvgWeppo68e",
        "colab_type": "text"
      },
      "source": [
        "19. Elimine el elemento Reinforcement de la clave learning utilizando el método .remove():"
      ]
    },
    {
      "cell_type": "code",
      "metadata": {
        "id": "SNQ5fW27_jK8",
        "colab_type": "code",
        "colab": {}
      },
      "source": [
        "machine_learning['learning'].remove('Reinforcement')"
      ],
      "execution_count": 0,
      "outputs": []
    },
    {
      "cell_type": "markdown",
      "metadata": {
        "id": "9g0WHuH4pSQk",
        "colab_type": "text"
      },
      "source": [
        "20. Elimine el elemento Game AI de la clave algorithm_type utilizando el método .remove():\n"
      ]
    },
    {
      "cell_type": "code",
      "metadata": {
        "id": "cOrBI2wW_qMS",
        "colab_type": "code",
        "colab": {}
      },
      "source": [
        "machine_learning['algorithm_type'].remove('Game AI')"
      ],
      "execution_count": 0,
      "outputs": []
    },
    {
      "cell_type": "markdown",
      "metadata": {
        "id": "wi2eHXvSpkPV",
        "colab_type": "text"
      },
      "source": [
        "21. Muestra el contenido de machine_learning usar la función print():"
      ]
    },
    {
      "cell_type": "code",
      "metadata": {
        "id": "J80kpqB8_6RE",
        "colab_type": "code",
        "outputId": "16214bf1-2c80-404e-84be-dad517d6eb72",
        "colab": {
          "base_uri": "https://localhost:8080/",
          "height": 55
        }
      },
      "source": [
        "print(machine_learning)"
      ],
      "execution_count": 0,
      "outputs": [
        {
          "output_type": "stream",
          "text": [
            "{'algorithm': ['Linear Regression', 'Logistic Regression', 'RandomForest', 'k-means'], 'learning': ['Supervised', 'Supervised', 'Supervised', 'Unsupervised'], 'algorithm_type': ['Regression', 'Classification', 'Regression or Classification', 'Clustering']}\n"
          ],
          "name": "stdout"
        }
      ]
    }
  ]
}